{
 "cells": [
  {
   "cell_type": "markdown",
   "metadata": {},
   "source": [
    "# Interactive SEIRDS model"
   ]
  },
  {
   "cell_type": "markdown",
   "metadata": {},
   "source": [
    "This notebook contains code for runnning an SEIRDS model for disease propagation.\n",
    "\n",
    "We will use the Euler method to numerically sovle coupled first order ODE's for the SEIRDS ODE model.\n",
    "\n",
    "S = Susceptible, E = Exposed, I = Infected, R = Recovered, D = Dead, N = Total = S+E+I+R+D\n",
    "\n",
    "$\\frac{dS}{dt}=-SI\\frac{q\\beta}{N}+\\tau R$\n",
    "\n",
    "$\\frac{dE}{dt}=SI\\frac{q\\beta}{N}-\\delta E$\n",
    "\n",
    "$\\frac{dI}{dt}=\\delta E-(1-\\alpha)\\gamma I-\\alpha\\rho I$\n",
    "\n",
    "$\\frac{dR}{dt}=(1-\\alpha)\\gamma I-\\tau R$\n",
    "\n",
    "$\\frac{dD}{dt}=\\alpha\\rho I$\n",
    "\n",
    "Here, $\\beta$ represents the average number of people that come within infection range of an infected individual per day, which is given by $\\frac{1}{\\text{number of individuals}}$. $\\gamma$ is the remove probability per day, which is given by $\\frac{1}{\\text{recovery time}}$. $\\delta$ is the rate at which exposed individuals become infected (incubation period), which is given by $\\frac{1}{\\text{incubation period}}$. $\\alpha$ is the percentage of infected people who die. $\\rho$ is the rate at which people die, given as $\\frac{1}{\\text{time infected before death}}$. q is the mitigation factor due to quarantining (between 0 and 1), where 0 is perfect quarantine and 1 is no quarantine. $\\tau$ is the rate which recovered individuals return to the susceptible population due to loss of immunity.\n",
    "\n",
    "Toggling the sliders will change the output."
   ]
  },
  {
   "cell_type": "markdown",
   "metadata": {},
   "source": [
    "Below we import packages:"
   ]
  },
  {
   "cell_type": "code",
   "execution_count": 1,
   "metadata": {},
   "outputs": [],
   "source": [
    "from __future__ import print_function\n",
    "from ipywidgets import interact, interactive, fixed, interact_manual\n",
    "import ipywidgets as widgets"
   ]
  },
  {
   "cell_type": "code",
   "execution_count": 2,
   "metadata": {},
   "outputs": [],
   "source": [
    "import numpy as np\n",
    "import matplotlib.pyplot as plt\n",
    "import scipy as sp\n",
    "import math\n",
    "import sys"
   ]
  },
  {
   "cell_type": "markdown",
   "metadata": {},
   "source": [
    "Next we define a function that has the variables we want to interact with that will output the plot we want to generate. See SEIRDS model notebook for more details on how the function works."
   ]
  },
  {
   "cell_type": "code",
   "execution_count": 7,
   "metadata": {},
   "outputs": [
    {
     "data": {
      "application/vnd.jupyter.widget-view+json": {
       "model_id": "95abcea4333d499dac54ce32b2cc47bf",
       "version_major": 2,
       "version_minor": 0
      },
      "text/plain": [
       "interactive(children=(FloatSlider(value=0.01, description='dt', max=0.1, min=0.0001, step=0.001), IntSlider(va…"
      ]
     },
     "metadata": {},
     "output_type": "display_data"
    }
   ],
   "source": [
    "@interact(dt=(0.0001,0.1,0.001), tottime=(100,750,5), beta=(0,1,0.01), gamma=(0,1,0.01), rho=(0,1,0.01), delta=(0,1,0.01),\n",
    "          alpha=(0,1,0.01), tau=(0,1,0.0001), q=(0,1,0.01), N=(0,100000,1000), pr=(0,1,0.0001), pe=(0,1,0.0001), pi=(0,1,0.0001))\n",
    "def SIR_model(dt=0.01, tottime=365, beta=0.25, gamma=0.07, rho=0.05, delta=0.2, alpha=0.05, tau=0.01, q=1, N=50000, pr=0.0, pe=0.0, pi=0.0001):\n",
    "    #initializing parameters\n",
    "    #initial percent susceptible\n",
    "    ps = 1-pr-pe-pi\n",
    "    \n",
    "    niter = int(math.ceil(tottime/dt))\n",
    "    t = np.arange(0, tottime, dt)   \n",
    "    S = np.zeros(niter)\n",
    "    E = np.zeros(niter)\n",
    "    I = np.zeros(niter)\n",
    "    R = np.zeros(niter)\n",
    "    D = np.zeros(niter)\n",
    "    \n",
    "     \n",
    "    S[0] = ps*N\n",
    "    E[0] = pe*N\n",
    "    I[0] = pi*N\n",
    "    R[0] = pr*N\n",
    "    D[0] = 0\n",
    "\n",
    "    for j in range(niter-1):\n",
    "        dSdt = -q*beta/N*S[j]*I[j] + tau*R[j]\n",
    "        dEdt = q*beta/N*S[j]*I[j] - delta*E[j]\n",
    "        dIdt = delta*E[j] - (1-alpha)*gamma*I[j] - alpha*rho*I[j]\n",
    "        dRdt = (1-alpha)*gamma*I[j] - tau*R[j]\n",
    "        dDdt = alpha*rho*I[j]\n",
    "        S[j+1] = S[j] + dt*dSdt\n",
    "        E[j+1] = E[j] + dt*dEdt\n",
    "        I[j+1] = I[j] + dt*dIdt\n",
    "        R[j+1] = R[j] + dt*dRdt\n",
    "        D[j+1] = D[j] + dt*dDdt\n",
    "    N = S + E + I + R + D\n",
    "    \n",
    "    plt.plot(t, S)\n",
    "    plt.plot(t, E)\n",
    "    plt.plot(t, I)\n",
    "    plt.plot(t, R)\n",
    "    plt.plot(t, D)\n",
    "    plt.plot(t, N)\n",
    "    plt.legend(['susceptible', 'exposed', 'infected', 'recovered', 'dead', 'total'], loc = 'upper right')\n",
    "    plt.title('SEIRDS model')\n",
    "    plt.xlabel('days elapsed since ' + str(pi*100) + ' percent of the population became infected')\n",
    "    plt.ylabel('population')\n",
    "    \n",
    "    print('dt = ' + str(dt), 'tottime = ' + str(tottime), 'beta = ' + str(beta), 'gamma = ' + str(gamma),\n",
    "      'rho = ' + str(rho), 'delta = ' + str(delta), 'alpha = ' + str(alpha), 'tau = ' + str(tau), 'q = ' + str(q),\n",
    "          'N[0] = ' + str(N[0]), 'pr = ' +str(pr), 'pe = ' + str(pe), 'pi = ' + str(pi))\n",
    "   \n",
    "    return plt.show()"
   ]
  },
  {
   "cell_type": "code",
   "execution_count": null,
   "metadata": {},
   "outputs": [],
   "source": []
  }
 ],
 "metadata": {
  "kernelspec": {
   "display_name": "Python 3",
   "language": "python",
   "name": "python3"
  },
  "language_info": {
   "codemirror_mode": {
    "name": "ipython",
    "version": 3
   },
   "file_extension": ".py",
   "mimetype": "text/x-python",
   "name": "python",
   "nbconvert_exporter": "python",
   "pygments_lexer": "ipython3",
   "version": "3.7.6"
  }
 },
 "nbformat": 4,
 "nbformat_minor": 4
}
