{
 "cells": [
  {
   "cell_type": "markdown",
   "metadata": {},
   "source": [
    "# Interactive SIR model"
   ]
  },
  {
   "cell_type": "markdown",
   "metadata": {},
   "source": [
    "This notebook contains code for runnning an SIR model for disease propagation.\n",
    "\n",
    "We will use the Euler method to numerically sovle coupled first order ODE's for the SIR ODE model.\n",
    "\n",
    "S = Susceptible, I = Infected, R = Recovered\n",
    "\n",
    "$\\frac{dS}{dt}=-SI\\frac{q\\beta}{N}$\n",
    "\n",
    "$\\frac{dI}{dt}=SI\\frac{q\\beta}{N}-\\gamma I$\n",
    "\n",
    "$\\frac{dR}{dt}=\\gamma I$\n",
    "\n",
    "Here, $\\beta$ represents the average number of people that come within infection range of an infected individual per day, which is given by $\\frac{1}{\\text{number of individuals}}$. $\\gamma$ is the remove probability per day, which is given by $\\frac{1}{\\text{recovery time}}$. q is the mitigation factor due to quarantining (between 0 and 1), where 0 is perfect quarantine and 1 is no quarantine.\n",
    "\n",
    "Toggling the sliders will change the output."
   ]
  },
  {
   "cell_type": "markdown",
   "metadata": {},
   "source": [
    "Below we import packages:"
   ]
  },
  {
   "cell_type": "code",
   "execution_count": 1,
   "metadata": {},
   "outputs": [],
   "source": [
    "from __future__ import print_function\n",
    "from ipywidgets import interact, interactive, fixed, interact_manual\n",
    "import ipywidgets as widgets"
   ]
  },
  {
   "cell_type": "code",
   "execution_count": 2,
   "metadata": {},
   "outputs": [],
   "source": [
    "import numpy as np\n",
    "import matplotlib.pyplot as plt\n",
    "import scipy as sp\n",
    "import math\n",
    "import sys"
   ]
  },
  {
   "cell_type": "markdown",
   "metadata": {},
   "source": [
    "Next we define a function that has the variables we want to interact with that will output the plot we want to generate. See SIR model notebook for more details on how the function works."
   ]
  },
  {
   "cell_type": "code",
   "execution_count": 10,
   "metadata": {},
   "outputs": [
    {
     "data": {
      "application/vnd.jupyter.widget-view+json": {
       "model_id": "26eabd45af6a40189ac0b3f56cbcfaef",
       "version_major": 2,
       "version_minor": 0
      },
      "text/plain": [
       "interactive(children=(FloatSlider(value=0.01, description='dt', max=0.1, min=0.001, step=0.001), IntSlider(val…"
      ]
     },
     "metadata": {},
     "output_type": "display_data"
    }
   ],
   "source": [
    "@interact(dt=(0.001,0.1,0.001), tottime=(100,750,5), beta=(0,1,0.01), gamma=(0,1,0.01),\n",
    "         q=(0,1,0.01), N=(0,100000,1000), pr=(0,1,0.0001), pi=(0,1,0.0001))\n",
    "def SIR_model(dt=0.01, tottime=365, beta=0.25, gamma=0.05, q=1, N=50000, pr=0.0, pi=0.0001):\n",
    "    #initializing parameters\n",
    "    #initial percent susceptible\n",
    "    ps = 1-pr-pi\n",
    "    \n",
    "    niter = int(math.ceil(tottime/dt))\n",
    "    t = np.arange(0, tottime, dt)   \n",
    "    S = np.zeros(niter)\n",
    "    I = np.zeros(niter)\n",
    "    R = np.zeros(niter)\n",
    "    \n",
    "     \n",
    "    S[0] = ps*N\n",
    "    I[0] = pi*N\n",
    "    R[0] = pr*N\n",
    "\n",
    "    for j in range(niter-1):\n",
    "        dSdt = -q*beta/N*S[j]*I[j]\n",
    "        dIdt = q*beta/N*S[j]*I[j] - gamma*I[j]\n",
    "        dRdt = gamma*I[j]\n",
    "        S[j+1] = S[j] + dt*dSdt\n",
    "        I[j+1] = I[j] + dt*dIdt\n",
    "        R[j+1] = R[j] + dt*dRdt\n",
    "    N = S + I + R\n",
    "    \n",
    "    plt.plot(t, S)\n",
    "    plt.plot(t, I)\n",
    "    plt.plot(t, R)\n",
    "    plt.plot(t, N)\n",
    "    plt.legend(['susceptible', 'infected', 'recovered', 'total'], loc = 'upper right')\n",
    "    plt.title('SIR model')\n",
    "    plt.xlabel('days elapsed since ' + str(pi*100) + ' percent of the population became infected')\n",
    "    plt.ylabel('population')\n",
    "    \n",
    "    print('dt = ' + str(dt), 'tottime = ' + str(tottime), 'beta = ' + str(beta), 'gamma = ' + str(gamma),\n",
    "          'q = ' + str(q), 'N[0] = ' + str(N[0]), 'pr = ' +str(pr), 'pi = ' + str(pi))\n",
    "   \n",
    "    return plt.show()"
   ]
  },
  {
   "cell_type": "code",
   "execution_count": null,
   "metadata": {},
   "outputs": [],
   "source": []
  }
 ],
 "metadata": {
  "kernelspec": {
   "display_name": "Python 3",
   "language": "python",
   "name": "python3"
  },
  "language_info": {
   "codemirror_mode": {
    "name": "ipython",
    "version": 3
   },
   "file_extension": ".py",
   "mimetype": "text/x-python",
   "name": "python",
   "nbconvert_exporter": "python",
   "pygments_lexer": "ipython3",
   "version": "3.7.6"
  }
 },
 "nbformat": 4,
 "nbformat_minor": 4
}
