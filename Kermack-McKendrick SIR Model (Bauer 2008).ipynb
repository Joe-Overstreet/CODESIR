{
 "cells": [
  {
   "cell_type": "markdown",
   "metadata": {},
   "source": [
    "# Kermack-McKendrick SIR Model \\[Brauer 2008\\]\n",
    "\n",
    "The following infectious disease spread model uses the Kermack-McKendrick SIR model from Brauer 2008:\n",
    "\n",
    "$S(t)$ is the number of individuals who are susceptible to the disease, that is,\n",
    "who are not (yet) infected at time $t$.\n",
    "$I(t)$ is the number of infected individuals, assumed infectious and able to spread\n",
    "the disease by contact with susceptibles.\n",
    "$R(t)$ is the number of individuals who have been infected and then removed from the\n",
    "possibility of being infected again or of spreading infection.\n",
    "\n",
    "Diff eq's:\n",
    "    $$ S'=-\\beta SI $$\n",
    "    $$ I'=\\beta SI-\\alpha I $$\n",
    "    $$ R'=\\alpha I $$\n",
    "    \n",
    "Model assumptions:\n",
    "\n",
    "    (1) An average member of the population makes contact sufficient to transmit\n",
    "     infection with betaN others per unit time, where N represents total\n",
    "     population size (mass action incidence).\n",
    "     \n",
    "    (2) Infectives leave the infective class at a rate alphaI per unit time.\n",
    "    \n",
    "    (3) There is no entry into or departure from the population, except possibly\n",
    "     through death from the disease.\n",
    "    \n",
    "$R_0$ is the basic reproduction number, which is $\\frac{\\beta S(0)}{\\alpha}$"
   ]
  },
  {
   "cell_type": "markdown",
   "metadata": {},
   "source": [
    "### Importing packages"
   ]
  },
  {
   "cell_type": "code",
   "execution_count": 20,
   "metadata": {},
   "outputs": [],
   "source": [
    "import numpy as np\n",
    "import matplotlib.pyplot as plt\n",
    "import scipy as sp\n",
    "import math\n",
    "import pandas as pd"
   ]
  },
  {
   "cell_type": "markdown",
   "metadata": {},
   "source": [
    "### Initializing parameters"
   ]
  },
  {
   "cell_type": "markdown",
   "metadata": {},
   "source": [
    "Time step (days):"
   ]
  },
  {
   "cell_type": "code",
   "execution_count": 2,
   "metadata": {},
   "outputs": [],
   "source": [
    "dt = 0.01"
   ]
  },
  {
   "cell_type": "markdown",
   "metadata": {},
   "source": [
    "Beta: fraction of total population that an average member of the population makes contact with sufficient to transmit infection per unit time.\n",
    "\n",
    "Units are $[\\frac{1}{N}][\\frac{1}{t}]$, where we choose N to be individuals and t to be days."
   ]
  },
  {
   "cell_type": "code",
   "execution_count": 3,
   "metadata": {},
   "outputs": [],
   "source": [
    "beta = 0.000595"
   ]
  },
  {
   "cell_type": "markdown",
   "metadata": {},
   "source": [
    "Alpha: the length of the infective period is $\\frac{1}{\\alpha}$, so $\\alpha$ is $\\frac{1}{\\text{length of infective period}}$\n",
    "\n",
    "Units are $[\\frac{1}{t}]$, where we choose t to be days."
   ]
  },
  {
   "cell_type": "code",
   "execution_count": 4,
   "metadata": {},
   "outputs": [],
   "source": [
    "alpha = 0.091"
   ]
  },
  {
   "cell_type": "markdown",
   "metadata": {},
   "source": [
    "Total time (days)"
   ]
  },
  {
   "cell_type": "code",
   "execution_count": 5,
   "metadata": {},
   "outputs": [],
   "source": [
    "tottime = 140"
   ]
  },
  {
   "cell_type": "markdown",
   "metadata": {},
   "source": [
    "### Initializing arrays"
   ]
  },
  {
   "cell_type": "code",
   "execution_count": 6,
   "metadata": {},
   "outputs": [],
   "source": [
    "niter = int(math.ceil(tottime/dt))\n",
    "t = np.arange(0, tottime, dt)   \n",
    "S = np.zeros(niter)\n",
    "I = np.zeros(niter)"
   ]
  },
  {
   "cell_type": "markdown",
   "metadata": {},
   "source": [
    "### Initial population values"
   ]
  },
  {
   "cell_type": "code",
   "execution_count": 7,
   "metadata": {},
   "outputs": [],
   "source": [
    "S[0] = 254\n",
    "I[0] = 7\n",
    "N = S[0] + I[0]"
   ]
  },
  {
   "cell_type": "markdown",
   "metadata": {},
   "source": [
    "### Value of $R_0$"
   ]
  },
  {
   "cell_type": "code",
   "execution_count": 8,
   "metadata": {},
   "outputs": [
    {
     "name": "stdout",
     "output_type": "stream",
     "text": [
      "1.660769230769231\n"
     ]
    }
   ],
   "source": [
    "R0 = beta*S[0]/alpha\n",
    "print(R0)"
   ]
  },
  {
   "cell_type": "markdown",
   "metadata": {},
   "source": [
    "### Euler's Method"
   ]
  },
  {
   "cell_type": "code",
   "execution_count": 9,
   "metadata": {},
   "outputs": [],
   "source": [
    "for j in range(niter-1):\n",
    "    dSdt=-(beta)*S[j]*I[j]\n",
    "    dIdt=(beta)*S[j]*I[j]-alpha*I[j]\n",
    "    S[j+1] = S[j] + dt*dSdt \n",
    "    I[j+1] = I[j] + dt*dIdt  \n",
    "   \n",
    "       \n",
    "R = N-S-I"
   ]
  },
  {
   "cell_type": "markdown",
   "metadata": {},
   "source": [
    "### Plotting"
   ]
  },
  {
   "cell_type": "code",
   "execution_count": 10,
   "metadata": {},
   "outputs": [
    {
     "data": {
      "image/png": "[encoded data removed]",
      "text/plain": [
       "<Figure size 432x288 with 1 Axes>"
      ]
     },
     "metadata": {
      "needs_background": "light"
     },
     "output_type": "display_data"
    }
   ],
   "source": [
    "plt.plot(t, S, 'k', label = 'susceptible')\n",
    "plt.plot(t, I, 'm', label = 'infected')\n",
    "plt.plot(t, R, 'b', label = 'recovered')\n",
    "plt.plot(t, R+S+I, 'y', label = 'total')\n",
    "plt.gca().legend(('susceptible','infected','recovered','total'))\n",
    "plt.title('Brauer 2008 SIR model for Eyam Plague')\n",
    "plt.xlabel('days since beginning of outbreak')\n",
    "plt.ylabel('population')\n",
    "plt.show()"
   ]
  },
  {
   "cell_type": "code",
   "execution_count": 44,
   "metadata": {},
   "outputs": [
    {
     "data": {
      "image/png": "[encoded data removed]",
      "text/plain": [
       "<Figure size 432x288 with 1 Axes>"
      ]
     },
     "metadata": {
      "needs_background": "light"
     },
     "output_type": "display_data"
    }
   ],
   "source": [
    "plt.plot(S, I, 'k')\n",
    "plt.title('Brauer 2008 SIR model for Eyam Plague')\n",
    "plt.xlabel('S(t)')\n",
    "plt.ylabel('I(t)')\n",
    "plt.xlim(0, 260)\n",
    "plt.ylim(0, 32)\n",
    "plt.xticks(np.arange(0, 270, step=10), \n",
    "           [' ',' ',' ',' ',' ', 50,' ',' ',' ',' ',100,' ',' ',' ',' ',150,\n",
    "            ' ',' ',' ',' ', 200,' ',' ',' ',' ', 250, ' '])\n",
    "plt.yticks(np.arange(0, 33, step=1),\n",
    "           [0,' ',' ',' ',' ',5,' ',' ',' ',' ',10,' ',' ',' ',' ',15,\n",
    "            ' ',' ',' ',' ',20,' ',' ',' ',' ',25,' ',' ',' ',' ',30,' ', ' '])\n",
    "plt.show()"
   ]
  },
  {
   "cell_type": "markdown",
   "metadata": {},
   "source": [
    "### Writing results to csv format"
   ]
  },
  {
   "cell_type": "code",
   "execution_count": 28,
   "metadata": {},
   "outputs": [],
   "source": [
    "df = pd.DataFrame({'days':t, 'infected':I, 'susceptible':S,\n",
    "                   'recovered':R, 'total':N})"
   ]
  },
  {
   "cell_type": "code",
   "execution_count": 29,
   "metadata": {},
   "outputs": [
    {
     "data": {
      "text/html": [
       "<div>\n",
       "<style scoped>\n",
       "    .dataframe tbody tr th:only-of-type {\n",
       "        vertical-align: middle;\n",
       "    }\n",
       "\n",
       "    .dataframe tbody tr th {\n",
       "        vertical-align: top;\n",
       "    }\n",
       "\n",
       "    .dataframe thead th {\n",
       "        text-align: right;\n",
       "    }\n",
       "</style>\n",
       "<table border=\"1\" class=\"dataframe\">\n",
       "  <thead>\n",
       "    <tr style=\"text-align: right;\">\n",
       "      <th></th>\n",
       "      <th>days</th>\n",
       "      <th>infected</th>\n",
       "      <th>susceptible</th>\n",
       "      <th>recovered</th>\n",
       "      <th>total</th>\n",
       "    </tr>\n",
       "  </thead>\n",
       "  <tbody>\n",
       "    <tr>\n",
       "      <th>0</th>\n",
       "      <td>0.00</td>\n",
       "      <td>7.000000</td>\n",
       "      <td>254.000000</td>\n",
       "      <td>0.000000</td>\n",
       "      <td>261.0</td>\n",
       "    </tr>\n",
       "    <tr>\n",
       "      <th>1</th>\n",
       "      <td>0.01</td>\n",
       "      <td>7.004209</td>\n",
       "      <td>253.989421</td>\n",
       "      <td>0.006370</td>\n",
       "      <td>261.0</td>\n",
       "    </tr>\n",
       "    <tr>\n",
       "      <th>2</th>\n",
       "      <td>0.02</td>\n",
       "      <td>7.008420</td>\n",
       "      <td>253.978836</td>\n",
       "      <td>0.012744</td>\n",
       "      <td>261.0</td>\n",
       "    </tr>\n",
       "    <tr>\n",
       "      <th>3</th>\n",
       "      <td>0.03</td>\n",
       "      <td>7.012634</td>\n",
       "      <td>253.968245</td>\n",
       "      <td>0.019121</td>\n",
       "      <td>261.0</td>\n",
       "    </tr>\n",
       "    <tr>\n",
       "      <th>4</th>\n",
       "      <td>0.04</td>\n",
       "      <td>7.016849</td>\n",
       "      <td>253.957648</td>\n",
       "      <td>0.025503</td>\n",
       "      <td>261.0</td>\n",
       "    </tr>\n",
       "  </tbody>\n",
       "</table>\n",
       "</div>"
      ],
      "text/plain": [
       "   days  infected  susceptible  recovered  total\n",
       "0  0.00  7.000000   254.000000   0.000000  261.0\n",
       "1  0.01  7.004209   253.989421   0.006370  261.0\n",
       "2  0.02  7.008420   253.978836   0.012744  261.0\n",
       "3  0.03  7.012634   253.968245   0.019121  261.0\n",
       "4  0.04  7.016849   253.957648   0.025503  261.0"
      ]
     },
     "execution_count": 29,
     "metadata": {},
     "output_type": "execute_result"
    }
   ],
   "source": [
    "df.head()"
   ]
  },
  {
   "cell_type": "code",
   "execution_count": 30,
   "metadata": {},
   "outputs": [
    {
     "data": {
      "text/html": [
       "<div>\n",
       "<style scoped>\n",
       "    .dataframe tbody tr th:only-of-type {\n",
       "        vertical-align: middle;\n",
       "    }\n",
       "\n",
       "    .dataframe tbody tr th {\n",
       "        vertical-align: top;\n",
       "    }\n",
       "\n",
       "    .dataframe thead th {\n",
       "        text-align: right;\n",
       "    }\n",
       "</style>\n",
       "<table border=\"1\" class=\"dataframe\">\n",
       "  <thead>\n",
       "    <tr style=\"text-align: right;\">\n",
       "      <th></th>\n",
       "      <th>days</th>\n",
       "      <th>infected</th>\n",
       "      <th>susceptible</th>\n",
       "      <th>recovered</th>\n",
       "      <th>total</th>\n",
       "    </tr>\n",
       "  </thead>\n",
       "  <tbody>\n",
       "    <tr>\n",
       "      <th>0</th>\n",
       "      <td>0.00</td>\n",
       "      <td>7.000000</td>\n",
       "      <td>254.000000</td>\n",
       "      <td>0.000000</td>\n",
       "      <td>261.0</td>\n",
       "    </tr>\n",
       "    <tr>\n",
       "      <th>1</th>\n",
       "      <td>0.01</td>\n",
       "      <td>7.004209</td>\n",
       "      <td>253.989421</td>\n",
       "      <td>0.006370</td>\n",
       "      <td>261.0</td>\n",
       "    </tr>\n",
       "    <tr>\n",
       "      <th>2</th>\n",
       "      <td>0.02</td>\n",
       "      <td>7.008420</td>\n",
       "      <td>253.978836</td>\n",
       "      <td>0.012744</td>\n",
       "      <td>261.0</td>\n",
       "    </tr>\n",
       "    <tr>\n",
       "      <th>3</th>\n",
       "      <td>0.03</td>\n",
       "      <td>7.012634</td>\n",
       "      <td>253.968245</td>\n",
       "      <td>0.019121</td>\n",
       "      <td>261.0</td>\n",
       "    </tr>\n",
       "    <tr>\n",
       "      <th>4</th>\n",
       "      <td>0.04</td>\n",
       "      <td>7.016849</td>\n",
       "      <td>253.957648</td>\n",
       "      <td>0.025503</td>\n",
       "      <td>261.0</td>\n",
       "    </tr>\n",
       "    <tr>\n",
       "      <th>...</th>\n",
       "      <td>...</td>\n",
       "      <td>...</td>\n",
       "      <td>...</td>\n",
       "      <td>...</td>\n",
       "      <td>...</td>\n",
       "    </tr>\n",
       "    <tr>\n",
       "      <th>13995</th>\n",
       "      <td>139.95</td>\n",
       "      <td>1.015349</td>\n",
       "      <td>76.539824</td>\n",
       "      <td>183.444827</td>\n",
       "      <td>261.0</td>\n",
       "    </tr>\n",
       "    <tr>\n",
       "      <th>13996</th>\n",
       "      <td>139.96</td>\n",
       "      <td>1.014888</td>\n",
       "      <td>76.539362</td>\n",
       "      <td>183.445751</td>\n",
       "      <td>261.0</td>\n",
       "    </tr>\n",
       "    <tr>\n",
       "      <th>13997</th>\n",
       "      <td>139.97</td>\n",
       "      <td>1.014426</td>\n",
       "      <td>76.538900</td>\n",
       "      <td>183.446674</td>\n",
       "      <td>261.0</td>\n",
       "    </tr>\n",
       "    <tr>\n",
       "      <th>13998</th>\n",
       "      <td>139.98</td>\n",
       "      <td>1.013965</td>\n",
       "      <td>76.538438</td>\n",
       "      <td>183.447597</td>\n",
       "      <td>261.0</td>\n",
       "    </tr>\n",
       "    <tr>\n",
       "      <th>13999</th>\n",
       "      <td>139.99</td>\n",
       "      <td>1.013504</td>\n",
       "      <td>76.537976</td>\n",
       "      <td>183.448520</td>\n",
       "      <td>261.0</td>\n",
       "    </tr>\n",
       "  </tbody>\n",
       "</table>\n",
       "<p>14000 rows × 5 columns</p>\n",
       "</div>"
      ],
      "text/plain": [
       "         days  infected  susceptible   recovered  total\n",
       "0        0.00  7.000000   254.000000    0.000000  261.0\n",
       "1        0.01  7.004209   253.989421    0.006370  261.0\n",
       "2        0.02  7.008420   253.978836    0.012744  261.0\n",
       "3        0.03  7.012634   253.968245    0.019121  261.0\n",
       "4        0.04  7.016849   253.957648    0.025503  261.0\n",
       "...       ...       ...          ...         ...    ...\n",
       "13995  139.95  1.015349    76.539824  183.444827  261.0\n",
       "13996  139.96  1.014888    76.539362  183.445751  261.0\n",
       "13997  139.97  1.014426    76.538900  183.446674  261.0\n",
       "13998  139.98  1.013965    76.538438  183.447597  261.0\n",
       "13999  139.99  1.013504    76.537976  183.448520  261.0\n",
       "\n",
       "[14000 rows x 5 columns]"
      ]
     },
     "execution_count": 30,
     "metadata": {},
     "output_type": "execute_result"
    }
   ],
   "source": [
    "df"
   ]
  },
  {
   "cell_type": "code",
   "execution_count": 32,
   "metadata": {},
   "outputs": [
    {
     "data": {
      "text/plain": [
       "0          0.00\n",
       "1          0.01\n",
       "2          0.02\n",
       "3          0.03\n",
       "4          0.04\n",
       "          ...  \n",
       "13995    139.95\n",
       "13996    139.96\n",
       "13997    139.97\n",
       "13998    139.98\n",
       "13999    139.99\n",
       "Name: days, Length: 14000, dtype: float64"
      ]
     },
     "execution_count": 32,
     "metadata": {},
     "output_type": "execute_result"
    }
   ],
   "source": [
    "df.days"
   ]
  },
  {
   "cell_type": "code",
   "execution_count": 36,
   "metadata": {},
   "outputs": [
    {
     "data": {
      "text/html": [
       "<div>\n",
       "<style scoped>\n",
       "    .dataframe tbody tr th:only-of-type {\n",
       "        vertical-align: middle;\n",
       "    }\n",
       "\n",
       "    .dataframe tbody tr th {\n",
       "        vertical-align: top;\n",
       "    }\n",
       "\n",
       "    .dataframe thead th {\n",
       "        text-align: right;\n",
       "    }\n",
       "</style>\n",
       "<table border=\"1\" class=\"dataframe\">\n",
       "  <thead>\n",
       "    <tr style=\"text-align: right;\">\n",
       "      <th></th>\n",
       "      <th>days</th>\n",
       "      <th>infected</th>\n",
       "      <th>susceptible</th>\n",
       "      <th>recovered</th>\n",
       "      <th>total</th>\n",
       "    </tr>\n",
       "  </thead>\n",
       "  <tbody>\n",
       "    <tr>\n",
       "      <th>0</th>\n",
       "      <td>0.0</td>\n",
       "      <td>7.000000</td>\n",
       "      <td>254.000000</td>\n",
       "      <td>0.000000</td>\n",
       "      <td>261.0</td>\n",
       "    </tr>\n",
       "    <tr>\n",
       "      <th>100</th>\n",
       "      <td>1.0</td>\n",
       "      <td>7.431331</td>\n",
       "      <td>252.912400</td>\n",
       "      <td>0.656269</td>\n",
       "      <td>261.0</td>\n",
       "    </tr>\n",
       "    <tr>\n",
       "      <th>200</th>\n",
       "      <td>2.0</td>\n",
       "      <td>7.883997</td>\n",
       "      <td>251.763256</td>\n",
       "      <td>1.352747</td>\n",
       "      <td>261.0</td>\n",
       "    </tr>\n",
       "    <tr>\n",
       "      <th>300</th>\n",
       "      <td>3.0</td>\n",
       "      <td>8.358366</td>\n",
       "      <td>250.550240</td>\n",
       "      <td>2.091393</td>\n",
       "      <td>261.0</td>\n",
       "    </tr>\n",
       "    <tr>\n",
       "      <th>400</th>\n",
       "      <td>4.0</td>\n",
       "      <td>8.854717</td>\n",
       "      <td>249.271087</td>\n",
       "      <td>2.874195</td>\n",
       "      <td>261.0</td>\n",
       "    </tr>\n",
       "    <tr>\n",
       "      <th>...</th>\n",
       "      <td>...</td>\n",
       "      <td>...</td>\n",
       "      <td>...</td>\n",
       "      <td>...</td>\n",
       "      <td>...</td>\n",
       "    </tr>\n",
       "    <tr>\n",
       "      <th>13500</th>\n",
       "      <td>135.0</td>\n",
       "      <td>1.271172</td>\n",
       "      <td>76.796975</td>\n",
       "      <td>182.931852</td>\n",
       "      <td>261.0</td>\n",
       "    </tr>\n",
       "    <tr>\n",
       "      <th>13600</th>\n",
       "      <td>136.0</td>\n",
       "      <td>1.214833</td>\n",
       "      <td>76.740195</td>\n",
       "      <td>183.044972</td>\n",
       "      <td>261.0</td>\n",
       "    </tr>\n",
       "    <tr>\n",
       "      <th>13700</th>\n",
       "      <td>137.0</td>\n",
       "      <td>1.160952</td>\n",
       "      <td>76.685971</td>\n",
       "      <td>183.153077</td>\n",
       "      <td>261.0</td>\n",
       "    </tr>\n",
       "    <tr>\n",
       "      <th>13800</th>\n",
       "      <td>138.0</td>\n",
       "      <td>1.109426</td>\n",
       "      <td>76.634189</td>\n",
       "      <td>183.256385</td>\n",
       "      <td>261.0</td>\n",
       "    </tr>\n",
       "    <tr>\n",
       "      <th>13900</th>\n",
       "      <td>139.0</td>\n",
       "      <td>1.060155</td>\n",
       "      <td>76.584738</td>\n",
       "      <td>183.355106</td>\n",
       "      <td>261.0</td>\n",
       "    </tr>\n",
       "  </tbody>\n",
       "</table>\n",
       "<p>140 rows × 5 columns</p>\n",
       "</div>"
      ],
      "text/plain": [
       "        days  infected  susceptible   recovered  total\n",
       "0        0.0  7.000000   254.000000    0.000000  261.0\n",
       "100      1.0  7.431331   252.912400    0.656269  261.0\n",
       "200      2.0  7.883997   251.763256    1.352747  261.0\n",
       "300      3.0  8.358366   250.550240    2.091393  261.0\n",
       "400      4.0  8.854717   249.271087    2.874195  261.0\n",
       "...      ...       ...          ...         ...    ...\n",
       "13500  135.0  1.271172    76.796975  182.931852  261.0\n",
       "13600  136.0  1.214833    76.740195  183.044972  261.0\n",
       "13700  137.0  1.160952    76.685971  183.153077  261.0\n",
       "13800  138.0  1.109426    76.634189  183.256385  261.0\n",
       "13900  139.0  1.060155    76.584738  183.355106  261.0\n",
       "\n",
       "[140 rows x 5 columns]"
      ]
     },
     "execution_count": 36,
     "metadata": {},
     "output_type": "execute_result"
    }
   ],
   "source": [
    "df.loc[df.days.isin(range(140))]"
   ]
  },
  {
   "cell_type": "code",
   "execution_count": 39,
   "metadata": {},
   "outputs": [],
   "source": [
    "df.to_csv('Practice.csv')"
   ]
  },
  {
   "cell_type": "code",
   "execution_count": 42,
   "metadata": {},
   "outputs": [],
   "source": [
    "first_data_set = pd.read_csv('Practice.csv', index_col=0)"
   ]
  },
  {
   "cell_type": "code",
   "execution_count": 43,
   "metadata": {},
   "outputs": [
    {
     "data": {
      "text/html": [
       "<div>\n",
       "<style scoped>\n",
       "    .dataframe tbody tr th:only-of-type {\n",
       "        vertical-align: middle;\n",
       "    }\n",
       "\n",
       "    .dataframe tbody tr th {\n",
       "        vertical-align: top;\n",
       "    }\n",
       "\n",
       "    .dataframe thead th {\n",
       "        text-align: right;\n",
       "    }\n",
       "</style>\n",
       "<table border=\"1\" class=\"dataframe\">\n",
       "  <thead>\n",
       "    <tr style=\"text-align: right;\">\n",
       "      <th></th>\n",
       "      <th>days</th>\n",
       "      <th>infected</th>\n",
       "      <th>susceptible</th>\n",
       "      <th>recovered</th>\n",
       "      <th>total</th>\n",
       "    </tr>\n",
       "  </thead>\n",
       "  <tbody>\n",
       "    <tr>\n",
       "      <th>0</th>\n",
       "      <td>0.00</td>\n",
       "      <td>7.000000</td>\n",
       "      <td>254.000000</td>\n",
       "      <td>0.000000</td>\n",
       "      <td>261.0</td>\n",
       "    </tr>\n",
       "    <tr>\n",
       "      <th>1</th>\n",
       "      <td>0.01</td>\n",
       "      <td>7.004209</td>\n",
       "      <td>253.989421</td>\n",
       "      <td>0.006370</td>\n",
       "      <td>261.0</td>\n",
       "    </tr>\n",
       "    <tr>\n",
       "      <th>2</th>\n",
       "      <td>0.02</td>\n",
       "      <td>7.008420</td>\n",
       "      <td>253.978836</td>\n",
       "      <td>0.012744</td>\n",
       "      <td>261.0</td>\n",
       "    </tr>\n",
       "    <tr>\n",
       "      <th>3</th>\n",
       "      <td>0.03</td>\n",
       "      <td>7.012634</td>\n",
       "      <td>253.968245</td>\n",
       "      <td>0.019121</td>\n",
       "      <td>261.0</td>\n",
       "    </tr>\n",
       "    <tr>\n",
       "      <th>4</th>\n",
       "      <td>0.04</td>\n",
       "      <td>7.016849</td>\n",
       "      <td>253.957648</td>\n",
       "      <td>0.025503</td>\n",
       "      <td>261.0</td>\n",
       "    </tr>\n",
       "  </tbody>\n",
       "</table>\n",
       "</div>"
      ],
      "text/plain": [
       "   days  infected  susceptible  recovered  total\n",
       "0  0.00  7.000000   254.000000   0.000000  261.0\n",
       "1  0.01  7.004209   253.989421   0.006370  261.0\n",
       "2  0.02  7.008420   253.978836   0.012744  261.0\n",
       "3  0.03  7.012634   253.968245   0.019121  261.0\n",
       "4  0.04  7.016849   253.957648   0.025503  261.0"
      ]
     },
     "execution_count": 43,
     "metadata": {},
     "output_type": "execute_result"
    }
   ],
   "source": [
    "first_data_set.head()"
   ]
  },
  {
   "cell_type": "code",
   "execution_count": 58,
   "metadata": {},
   "outputs": [
    {
     "data": {
      "application/vnd.jupyter.widget-view+json": {
       "model_id": "4d4a8300e58b46b3b7002b656df8c058",
       "version_major": 2,
       "version_minor": 0
      },
      "text/plain": [
       "interactive(children=(IntSlider(value=140, description='tottime', max=750, min=100, step=5), FloatSlider(value…"
      ]
     },
     "metadata": {},
     "output_type": "display_data"
    }
   ],
   "source": [
    "from __future__ import print_function\n",
    "from ipywidgets import interact, interactive, fixed, interact_manual\n",
    "import ipywidgets as widgets\n",
    "\n",
    "dt = 0.01\n",
    "\n",
    "@interact(tottime=(100,750,5), betaprime=(0,1,0.005), infectionlength=(1,40,1),\n",
    "       initial_sus_pop=(0,10000,1),initial_inf_pop=(0,10000,1))\n",
    "def SIR_model(tottime=140, betaprime=0.155, infectionlength=11, initial_sus_pop=254, initial_inf_pop=7):\n",
    "    \n",
    "    niter = int(math.ceil(tottime/dt))\n",
    "    t = np.arange(0, tottime, dt)   \n",
    "    S = np.zeros(niter)\n",
    "    I = np.zeros(niter)\n",
    "    R = np.zeros(niter)\n",
    "    \n",
    "     \n",
    "    S[0] = initial_sus_pop\n",
    "    I[0] = initial_inf_pop\n",
    "    N = S[0] + I[0]\n",
    "    \n",
    "    beta = betaprime/N #betaprime is the beta from the old model\n",
    "    \n",
    "    alpha = 1/infectionlength\n",
    "    \n",
    "    R0 = beta*S[0]/alpha\n",
    "\n",
    "    for j in range(niter-1):\n",
    "        dSdt = -beta*S[j]*I[j]\n",
    "        dIdt = beta*S[j]*I[j] - alpha*I[j]\n",
    "        dRdt = alpha*I[j]\n",
    "        S[j+1] = S[j] + dt*dSdt\n",
    "        I[j+1] = I[j] + dt*dIdt\n",
    "        R[j+1] = R[j] + dt*dRdt\n",
    "    N = S + I + R\n",
    "    \n",
    "    print('tottime = ' + str(tottime), 'beta = ' + str(beta), 'alpha = ' + str(alpha),\n",
    "              'Initial Sus Pop = ' + str(initial_sus_pop),\n",
    "              'Initial Inf Pop = ' + str(initial_inf_pop),'R0 = ' + str(R0))\n",
    "    \n",
    "    for n in range(2):\n",
    "        if n == 0:\n",
    "            plt.plot(t, S)\n",
    "            plt.plot(t, I)\n",
    "            plt.plot(t, R)\n",
    "            plt.plot(t, N)\n",
    "            plt.legend(['susceptible', 'infected', 'recovered', 'total'], loc = 'upper right')\n",
    "            plt.title('Brauer SIR model')\n",
    "            plt.xlabel('days since beginning of outbreak')\n",
    "            plt.ylabel('population')\n",
    "            plt.show()\n",
    "        else:\n",
    "            plt.plot(S, I)\n",
    "            plt.title('Brauer SIR model Phase Space')\n",
    "            plt.xlabel('S(t)')\n",
    "            plt.ylabel('I(t)')\n",
    "            plt.show()\n",
    "    \n",
    "    return plt.show()"
   ]
  },
  {
   "cell_type": "code",
   "execution_count": null,
   "metadata": {},
   "outputs": [],
   "source": []
  }
 ],
 "metadata": {
  "kernelspec": {
   "display_name": "Python 3",
   "language": "python",
   "name": "python3"
  },
  "language_info": {
   "codemirror_mode": {
    "name": "ipython",
    "version": 3
   },
   "file_extension": ".py",
   "mimetype": "text/x-python",
   "name": "python",
   "nbconvert_exporter": "python",
   "pygments_lexer": "ipython3",
   "version": "3.7.6"
  }
 },
 "nbformat": 4,
 "nbformat_minor": 4
}
