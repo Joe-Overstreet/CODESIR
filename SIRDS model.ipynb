{
 "cells": [
  {
   "cell_type": "markdown",
   "metadata": {},
   "source": [
    "# SIRDS model"
   ]
  },
  {
   "cell_type": "markdown",
   "metadata": {},
   "source": [
    "This notebook contains code for runnning an SIRDS model for disease propagation.\n",
    "\n",
    "We will use the Euler method to numerically sovle coupled first order ODE's for the SIRDS ODE model.\n",
    "\n",
    "S = Susceptible, I = Infected, R = Recovered, D = Dead, N = Total = S+I+R+D\n",
    "\n",
    "$\\frac{dS}{dt}=-SI\\frac{q\\beta}{N}+\\tau R$\n",
    "\n",
    "$\\frac{dI}{dt}=SI\\frac{q\\beta}{N}-(1-\\alpha)\\gamma I-\\alpha\\rho I$\n",
    "\n",
    "$\\frac{dR}{dt}=(1-\\alpha)\\gamma I-\\tau R$\n",
    "\n",
    "$\\frac{dD}{dt}=\\alpha\\rho I$\n",
    "\n",
    "Here, $\\beta$ represents the average number of people that come within infection range of an infected individual per day, which is given by $\\frac{1}{\\text{number of individuals}}$. $\\gamma$ is the remove probability per day, which is given by $\\frac{1}{\\text{recovery time}}$. $\\alpha$ is the percentage of infected people who die. $\\rho$ is the rate at which people die, given as $\\frac{1}{\\text{time infected before death}}$. q is the mitigation factor due to quarantining (between 0 and 1), where 0 is perfect quarantine and 1 is no quarantine. $\\tau$ is the rate which recovered individuals return to the susceptible population due to loss of immunity."
   ]
  },
  {
   "cell_type": "markdown",
   "metadata": {},
   "source": [
    "Below we import packages."
   ]
  },
  {
   "cell_type": "code",
   "execution_count": 1,
   "metadata": {},
   "outputs": [],
   "source": [
    "import numpy as np\n",
    "import matplotlib.pyplot as plt\n",
    "import scipy as sp\n",
    "import math\n",
    "import sys"
   ]
  },
  {
   "cell_type": "markdown",
   "metadata": {},
   "source": [
    "Now we initialize parameters."
   ]
  },
  {
   "cell_type": "markdown",
   "metadata": {},
   "source": [
    "Time step in days:"
   ]
  },
  {
   "cell_type": "code",
   "execution_count": 2,
   "metadata": {},
   "outputs": [],
   "source": [
    "dt = 0.01"
   ]
  },
  {
   "cell_type": "markdown",
   "metadata": {},
   "source": [
    "Total time in days:"
   ]
  },
  {
   "cell_type": "code",
   "execution_count": 3,
   "metadata": {},
   "outputs": [],
   "source": [
    "tottime = 365"
   ]
  },
  {
   "cell_type": "markdown",
   "metadata": {},
   "source": [
    "Other parameters:"
   ]
  },
  {
   "cell_type": "code",
   "execution_count": 4,
   "metadata": {},
   "outputs": [],
   "source": [
    "beta = 0.25\n",
    "gamma = 0.05 #20 days of infection\n",
    "alpha = 0.05 #5% of infected die\n",
    "rho = 0.05 #20 days infected before death\n",
    "q = 1 #assumes no quarantine\n",
    "tau = 0.01 #assumes individuals lose immunity after about 3 months\n",
    "N = 5E4"
   ]
  },
  {
   "cell_type": "markdown",
   "metadata": {},
   "source": [
    "Initial population conditions:"
   ]
  },
  {
   "cell_type": "code",
   "execution_count": 5,
   "metadata": {},
   "outputs": [],
   "source": [
    "pr = 0.0 #initial percent recovered (immune)\n",
    "pi = 0.0001 #initial percent infected\n",
    "ps = 1-pr-pi #initial percent susceptible"
   ]
  },
  {
   "cell_type": "markdown",
   "metadata": {},
   "source": [
    "Initializing population arrays:"
   ]
  },
  {
   "cell_type": "code",
   "execution_count": 8,
   "metadata": {},
   "outputs": [],
   "source": [
    "niter = int(math.ceil(tottime/dt))\n",
    "t = np.arange(0, tottime, dt)\n",
    "S = np.zeros(niter)\n",
    "I = np.zeros(niter)\n",
    "R = np.zeros(niter)\n",
    "D = np.zeros(niter)"
   ]
  },
  {
   "cell_type": "markdown",
   "metadata": {},
   "source": [
    "Applying initial population conditions:"
   ]
  },
  {
   "cell_type": "code",
   "execution_count": 9,
   "metadata": {},
   "outputs": [],
   "source": [
    "S[0] = ps*N\n",
    "I[0] = pi*N\n",
    "R[0] = pr*N\n",
    "D[0] = 0"
   ]
  },
  {
   "cell_type": "markdown",
   "metadata": {},
   "source": [
    "Implementing Euler's method:"
   ]
  },
  {
   "cell_type": "code",
   "execution_count": 10,
   "metadata": {},
   "outputs": [],
   "source": [
    "for j in range(niter-1):\n",
    "    dSdt = -q*beta/N*S[j]*I[j] + tau*R[j]\n",
    "    dIdt = q*beta/N*S[j]*I[j] - (1-alpha)*gamma*I[j] - alpha*rho*I[j]\n",
    "    dRdt = (1-alpha)*gamma*I[j] - tau*R[j]\n",
    "    dDdt = alpha*rho*I[j]\n",
    "    S[j+1] = S[j] + dt*dSdt\n",
    "    I[j+1] = I[j] + dt*dIdt\n",
    "    R[j+1] = R[j] + dt*dRdt\n",
    "    D[j+1] = D[j] + dt*dDdt\n",
    "N = S + I + R + D"
   ]
  },
  {
   "cell_type": "markdown",
   "metadata": {},
   "source": [
    "Plotting:"
   ]
  },
  {
   "cell_type": "code",
   "execution_count": 13,
   "metadata": {},
   "outputs": [
    {
     "data": {
      "image/png": "[encoded data removed]",
      "text/plain": [
       "<Figure size 432x288 with 1 Axes>"
      ]
     },
     "metadata": {
      "needs_background": "light"
     },
     "output_type": "display_data"
    }
   ],
   "source": [
    "plt.plot(t, S)\n",
    "plt.plot(t, I)\n",
    "plt.plot(t, R)\n",
    "plt.plot(t, D)\n",
    "plt.plot(t, N)\n",
    "plt.legend(['susceptible', 'infected', 'recovered', 'dead', 'total'], loc = 'upper right')\n",
    "plt.title('SIRDS model')\n",
    "plt.xlabel('days elapsed since 0.01 percent of the population became infected')\n",
    "plt.ylabel('population')\n",
    "plt.show()"
   ]
  },
  {
   "cell_type": "markdown",
   "metadata": {},
   "source": [
    "# Sources:"
   ]
  },
  {
   "cell_type": "markdown",
   "metadata": {},
   "source": [
    "https://www.davidketcheson.info/2020/03/19/SIR_Estimating_parameters.html\n",
    "\n",
    "https://www.davidketcheson.info/2020/03/19/SIR_predictions.html\n",
    "\n",
    "https://towardsdatascience.com/infectious-disease-modelling-beyond-the-basic-sir-model-216369c584c4\n",
    "\n",
    "https://idmod.org/docs/malaria/model-sir.html"
   ]
  },
  {
   "cell_type": "code",
   "execution_count": null,
   "metadata": {},
   "outputs": [],
   "source": []
  }
 ],
 "metadata": {
  "kernelspec": {
   "display_name": "Python 3",
   "language": "python",
   "name": "python3"
  },
  "language_info": {
   "codemirror_mode": {
    "name": "ipython",
    "version": 3
   },
   "file_extension": ".py",
   "mimetype": "text/x-python",
   "name": "python",
   "nbconvert_exporter": "python",
   "pygments_lexer": "ipython3",
   "version": "3.7.6"
  }
 },
 "nbformat": 4,
 "nbformat_minor": 4
}
